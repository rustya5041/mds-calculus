{
 "cells": [
  {
   "cell_type": "markdown",
   "metadata": {},
   "source": [
    "# Calculus"
   ]
  },
  {
   "cell_type": "markdown",
   "metadata": {},
   "source": [
    "`Grading Formula`\n",
    "\n",
    "0.05 * Practice Quizzes (week 6) +  \n",
    "0.04 * SGA Open Question: Extremum +  \n",
    "0.04 * SGA Open Question: Multivariate limit +  \n",
    "0.02 * First Week Extra Quiz +  \n",
    "0.09 * SGA Numerical Differentiation +  \n",
    "0.30 * Final Project +  \n",
    "0.04 * SGA Open Question: Series +  \n",
    "0.04 * SGA Open Question: FTC +  \n",
    "0.09 * SGA Numerical Integration +  \n",
    "0.25 * Week Final Quizzes (weeks 1-5) +  \n",
    "0.04 * SGA Open Question: Chain Rule"
   ]
  },
  {
   "cell_type": "markdown",
   "metadata": {},
   "source": [
    "`Content`\n",
    "\n",
    "1. **Introduction: Numerical Sets, Functions, Limits**\n",
    "2. **Limits and Multivariate Functions**\n",
    "3. **Derivatives and Linear Approximations: Single variate Functions**\n",
    "4. **Derivatives and Linear Approximations: Multivariate Functions**\n",
    "5. **Integrals: Anti-derivative, Area under Curve**\n",
    "6. **Optimization: Directional derivative, Extrema and Gradient Descent**"
   ]
  },
  {
   "cell_type": "markdown",
   "metadata": {},
   "source": [
    "## `Week 1 - Numerical Sets, Functions, Limits`"
   ]
  },
  {
   "cell_type": "markdown",
   "metadata": {},
   "source": [
    "Natural numbers N = {1,2,3 ...}  \n",
    "Integer numbers Z = {0, 1, -1, ...}  \n",
    "Rational numbers Q = {$m \\over n$ | $m \\in Z, n \\in N$}  \n",
    "Real numbers R = {$a_{0}, a_{1}, a_{2}, a_{3}$}"
   ]
  },
  {
   "cell_type": "markdown",
   "metadata": {},
   "source": [
    "_**`Set`**_\n",
    "\n",
    "_A collection of some objects_\n",
    "- no duplicates\n",
    "- no ordering\n",
    "- the object either belongs to the set or not\n",
    "\n",
    "NB: normally are denoted by a capital letter, belonging is denoted as $a \\in A$ or $a \\notin A$\n",
    "\n",
    "`Subset` is a a set of elements belonging to the given set. Notation: $a \\subset A$"
   ]
  },
  {
   "cell_type": "markdown",
   "metadata": {},
   "source": [
    "_**`Mapping`**_\n",
    "\n",
    "_Mapping is an ordered relation between two sets_\n",
    "\n",
    "for all notation: $\\forall$  \n",
    "exists notation: $\\exists$  \n",
    "\n",
    "'Not for all it is true' = 'Exists at least one false' $ = \\neg \\forall = \\exists \\neg$  \n",
    "'Not exists any that is true' = 'For all it is false' $ = \\neg \\exists = \\forall \\neg $\n"
   ]
  },
  {
   "cell_type": "markdown",
   "metadata": {},
   "source": [
    "Sequences:\n",
    "1. Intro – https://www.youtube.com/watch?v=YEiZWonJrOg\n",
    "2. Limits – https://www.youtube.com/watch?v=cTnlHZD5ss4\n",
    "3. Bounded sequences - https://www.youtube.com/watch?v=UbNE_beWlhU\n"
   ]
  },
  {
   "cell_type": "markdown",
   "metadata": {},
   "source": [
    "Definitions:\n",
    "\n",
    "`Domain`  \n",
    "The domain of a function is the set of inputs accepted by the function\n",
    "\n",
    "`Codomain`  \n",
    "The codomain or set of destination of a function is the set into which all of the output of the function is constrained to fall\n",
    "\n",
    "`Image`\n",
    "The image of a function is the set of all output values it may produce\n",
    "\n",
    "`Limit of a sequence`  \n",
    "The limit of a function at a point a in its domain (if it exists) is the value that the function approaches as its argument approaches $a$\n",
    "\n",
    "Formal definition: $\\forall \\epsilon > 0: \\exists N \\in \\mathbb{N}$ that $\\forall n \\in \\mathbb{N}, n > N \\implies \\mid a_n - C \\mid < \\epsilon$\n",
    "\n",
    "Less formal: a sequence {$a_n$} has the limit $L$ if for every $\\epsilon > 0$ there exists an integer $N$ such that if $n > N$ then $\\mid a_n - C \\mid < \\epsilon$"
   ]
  },
  {
   "cell_type": "markdown",
   "metadata": {},
   "source": [
    "# `Week 2. Limits and Multivariate Functions`"
   ]
  },
  {
   "cell_type": "markdown",
   "metadata": {},
   "source": [
    "Definitions\n",
    "\n",
    "`Functions limit`  \n",
    "- 'For any given deviation one could go as close to the limit point that the sequence would not deviate from the limit more than given'  \n",
    "- Formal definition:  \n",
    "$\\lim_{x \\to a} f(x) = C \\iff \\forall \\epsilon > 0 \\quad \\exists \\delta > 0 \\quad \\forall x: 0 < \\mid x - a \\mid < \\delta \\implies \\mid f(x) - C \\mid < \\epsilon$\n",
    "- Sequence based definition:  \n",
    "For all $x_n \\to a$ the sequence of values $f(x_n) \\to C$\n"
   ]
  },
  {
   "cell_type": "markdown",
   "metadata": {},
   "source": []
  }
 ],
 "metadata": {
  "kernelspec": {
   "display_name": "Python 3.9.12 ('base')",
   "language": "python",
   "name": "python3"
  },
  "language_info": {
   "name": "python",
   "version": "3.9.12"
  },
  "orig_nbformat": 4,
  "vscode": {
   "interpreter": {
    "hash": "cd78fef2128015050713e82ca51c6520b11aee7c9ee8df750520bbbc7384cbaa"
   }
  }
 },
 "nbformat": 4,
 "nbformat_minor": 2
}
