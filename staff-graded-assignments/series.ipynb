{
 "cells": [
  {
   "cell_type": "markdown",
   "metadata": {},
   "source": [
    "`Calculus, SGA - Open Question: Series, by Magomedov Rustam`"
   ]
  },
  {
   "cell_type": "markdown",
   "metadata": {},
   "source": [
    "$\\forall \\sum_{n=1}^\\infty a_{n} $ that converges, if we expect that the sum of all elements in the sequences converges to $0$, then it must hold true that after a while the sum of the sequence of terms will also converge to $0$.\n",
    "\n",
    "Consider the sum of a sequence, defined:  \n",
    "\n",
    "$\\sum A_n = i_1 + i_2 + i_3 + ... + i_n \\mid n = \\infty$  \n",
    "$\\implies \\sum A_c = i_{c} + i_{c+1} + i_{c+2} + ... + i_{c+n} = A_{c+1}$  \n",
    "$\\implies$ the relation can be represented as $\\sum A_d = A_{c+1} + a_c$   \n",
    "$\\implies A_n = A_c = A_d$\n",
    "\n",
    "As the sum of the sequence of terms must converge to $0$, $\\implies a_n$ converges to $0$ too.  \n",
    "$\\therefore \\lim_{x \\to \\infty} a_n$ = 0"
   ]
  }
 ],
 "metadata": {
  "kernelspec": {
   "display_name": "Python 3 (ipykernel)",
   "language": "python",
   "name": "python3"
  },
  "language_info": {
   "codemirror_mode": {
    "name": "ipython",
    "version": 3
   },
   "file_extension": ".py",
   "mimetype": "text/x-python",
   "name": "python",
   "nbconvert_exporter": "python",
   "pygments_lexer": "ipython3",
   "version": "3.9.12"
  },
  "vscode": {
   "interpreter": {
    "hash": "aee8b7b246df8f9039afb4144a1f6fd8d2ca17a180786b69acc140d282b71a49"
   }
  }
 },
 "nbformat": 4,
 "nbformat_minor": 2
}
