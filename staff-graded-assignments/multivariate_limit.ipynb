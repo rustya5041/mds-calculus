{
 "cells": [
  {
   "cell_type": "markdown",
   "metadata": {},
   "source": [
    "`Calculus, SGA - [Extra] Open Question: Multivariate limit, by Magomedov Rustam`"
   ]
  },
  {
   "cell_type": "markdown",
   "metadata": {},
   "source": [
    "Consider the following function from the Final Quiz of the week 2: $f(x,y) =$ $x^2y\\over x^3 + y^3$\n",
    "\n",
    "Let us find sequential (iterated) limits given $x \\to 0$ and $y \\to 0$\n",
    "\n",
    "Solving for the sequential (itetated) limits, in both instances in the numerator we eventually multiply by $0$, hence we obtain  \n",
    "$\\lim_{x \\to 0}(\\lim_{y \\to 0} $ $x^2y\\over x^3 + y^3$) $= 0$  \n",
    "$\\lim_{y \\to 0}(\\lim_{x \\to 0} $ $x^2y\\over x^3 + y^3$) $= 0$  \n",
    "\n",
    "Although we obtained the limits when solving for iterated forms, when solving for the ordinary multivariate limit, such limit does not exist. Let us prove it.\n",
    "\n",
    "We need to solve $\\lim_{x,y \\to (0,0)}$ $x^2y\\over x^3 + y^3$ = $\\lim_{x,y \\to (0,0)}$ $0 \\over 0$ $\\implies$ indeterminate. To solve, let us substitute $y = kx$\n",
    "\n",
    "$\\lim_{x \\to 0, y = kx}$ $x^2y\\over x^3 + y^3$ =  \n",
    "\n",
    "= $\\lim_{x \\to 0, y = kx}$ $x^2kx \\over x^3 + k^3x^3$ =  \n",
    "\n",
    "= $\\lim_{x \\to 0, y = kx}$ $kx^3 \\over x^3 + k^3x^3$ =  \n",
    "\n",
    "= $\\lim_{x \\to 0, y = kx}$ $x^3(k) \\over x^3(1 + k^3)$ =  \n",
    "\n",
    "= $\\lim_{x \\to 0, y = kx}$ $k \\over 1 + k^3$ $\\implies$ the result depends on $k$  \n",
    "\n",
    "$\\therefore$ $\\lim_{x \\to 0, y = kx}$ $x^2y\\over x^3 + y^3$ = DNE\n",
    "\n",
    "$\\therefore$ sequential (iterated) limits exist, the ordinary limit DNE\n",
    "\n",
    "\n",
    "\n",
    "\n",
    "\n",
    "\n",
    "\n",
    "\n",
    "\n"
   ]
  },
  {
   "cell_type": "markdown",
   "metadata": {},
   "source": []
  }
 ],
 "metadata": {
  "kernelspec": {
   "display_name": "Python 3 (ipykernel)",
   "language": "python",
   "name": "python3"
  },
  "language_info": {
   "codemirror_mode": {
    "name": "ipython",
    "version": 3
   },
   "file_extension": ".py",
   "mimetype": "text/x-python",
   "name": "python",
   "nbconvert_exporter": "python",
   "pygments_lexer": "ipython3",
   "version": "3.10.7"
  },
  "vscode": {
   "interpreter": {
    "hash": "aee8b7b246df8f9039afb4144a1f6fd8d2ca17a180786b69acc140d282b71a49"
   }
  }
 },
 "nbformat": 4,
 "nbformat_minor": 2
}
